{
 "cells": [
  {
   "cell_type": "code",
   "execution_count": 2,
   "metadata": {},
   "outputs": [],
   "source": [
    "import csv"
   ]
  },
  {
   "cell_type": "code",
   "execution_count": 3,
   "metadata": {},
   "outputs": [
    {
     "data": {
      "text/plain": [
       "['frame',\n",
       " ' timestamp',\n",
       " ' confidence',\n",
       " ' success',\n",
       " ' AU01_r',\n",
       " ' AU02_r',\n",
       " ' AU04_r',\n",
       " ' AU05_r',\n",
       " ' AU06_r',\n",
       " ' AU09_r',\n",
       " ' AU10_r',\n",
       " ' AU12_r',\n",
       " ' AU14_r',\n",
       " ' AU15_r',\n",
       " ' AU17_r',\n",
       " ' AU20_r',\n",
       " ' AU25_r',\n",
       " ' AU26_r',\n",
       " ' AU04_c',\n",
       " ' AU12_c',\n",
       " ' AU15_c',\n",
       " ' AU23_c',\n",
       " ' AU28_c',\n",
       " ' AU45_c']"
      ]
     },
     "execution_count": 3,
     "metadata": {},
     "output_type": "execute_result"
    }
   ],
   "source": [
    "with open('471_CLNF_AUs.csv', 'r') as file:\n",
    "    r=csv.reader(file)\n",
    "    data=list(r)\n",
    "\n",
    "#removing empty lists(basically cleaning lists)\n",
    "data= (d for d in data if d!=[])\n",
    "data=list(data)\n",
    "\n",
    "#remove headings \n",
    "data.pop(0)\n",
    "\n"
   ]
  },
  {
   "cell_type": "code",
   "execution_count": 4,
   "metadata": {},
   "outputs": [
    {
     "name": "stdout",
     "output_type": "stream",
     "text": [
      "[14931.5, 497.6833333333334, 0.92452857878574, 0.9919630299377135, 0.37328374727077895, 0.19217322627419484, 0.2291121876297635, 0.03689056563525549, 0.0823672720514366, 0.2410015741745362, 0.08797826120152677, 0.1654615215993565, 0.2664745331525021, 0.104489395954725, 0.018941165427633758, 0.10800114238831965, 1.0098059622932136, 0.038380794119616916, -0.5117540687160941, -0.6115129596142255, -0.7209497019623602, -0.22992431853191347, -0.8028263344719041, -0.5563927399370437]\n"
     ]
    }
   ],
   "source": [
    "mean_val=[0]*(24) \n",
    "cnt=0\n",
    "for x in data:\n",
    "    cnt+=1\n",
    "    for p in range(0,len(x)): \n",
    "        mean_val[p]+=float(x[p])\n",
    "for x in range(0,len(mean_val)):\n",
    "    mean_val[x]/=cnt\n",
    "    \n",
    "print(mean_val)"
   ]
  },
  {
   "cell_type": "code",
   "execution_count": 5,
   "metadata": {},
   "outputs": [
    {
     "name": "stdout",
     "output_type": "stream",
     "text": [
      "[0.92452857878574, 0.9919630299377135, 0.37328374727077895, 0.19217322627419484, 0.2291121876297635, 0.03689056563525549, 0.0823672720514366, 0.2410015741745362, 0.08797826120152677, 0.1654615215993565, 0.2664745331525021, 0.104489395954725, 0.018941165427633758, 0.10800114238831965, 1.0098059622932136, 0.038380794119616916, -0.5117540687160941, -0.6115129596142255, -0.7209497019623602, -0.22992431853191347, -0.8028263344719041, -0.5563927399370437]\n"
     ]
    }
   ],
   "source": [
    "mean_val=mean_val[2:] #frame and timestamp not required\n",
    "print(mean_val)"
   ]
  },
  {
   "cell_type": "code",
   "execution_count": 9,
   "metadata": {},
   "outputs": [
    {
     "name": "stdout",
     "output_type": "stream",
     "text": [
      "[297261279.1666667, 330257.1301919834, 0.8564686172212791, 0.9919630299377135, 0.4516528821531699, 0.1681228131738717, 0.1915985274595943, 0.02391372391996083, 0.05675290116472247, 0.2116308795785945, 0.05725010110609509, 0.12087248222606466, 0.23159592871895957, 0.07116439486963827, 0.01300715420105251, 0.0766036335678149, 2.0082141526186876, 0.023180652900346713, 80.66164356037774, 80.56188466947961, 80.45244792713147, 80.94347331056191, 80.37057129462193, 80.61700488915679]\n"
     ]
    }
   ],
   "source": [
    "x2_val=[0]*(24) \n",
    "for x in data:\n",
    "    for p in range(0,len(x)): \n",
    "        x2_val[p]+=(float(x[p])**2)\n",
    "for x in range(0,len(x2_val)):\n",
    "    x2_val[x]/=cnt\n",
    "    \n",
    "print(x2_val)"
   ]
  },
  {
   "cell_type": "code",
   "execution_count": 10,
   "metadata": {},
   "outputs": [
    {
     "name": "stdout",
     "output_type": "stream",
     "text": [
      "[0.8564686172212791, 0.9919630299377135, 0.4516528821531699, 0.1681228131738717, 0.1915985274595943, 0.02391372391996083, 0.05675290116472247, 0.2116308795785945, 0.05725010110609509, 0.12087248222606466, 0.23159592871895957, 0.07116439486963827, 0.01300715420105251, 0.0766036335678149, 2.0082141526186876, 0.023180652900346713, 80.66164356037774, 80.56188466947961, 80.45244792713147, 80.94347331056191, 80.37057129462193, 80.61700488915679]\n"
     ]
    }
   ],
   "source": [
    "x2_val=x2_val[2:] #frame and timestamp not required\n",
    "print(x2_val)"
   ]
  },
  {
   "cell_type": "code",
   "execution_count": 13,
   "metadata": {},
   "outputs": [
    {
     "name": "stdout",
     "output_type": "stream",
     "text": [
      "[0.0017155242296987838, 0.007972377174504497, 0.31231212617665516, 0.13119226427723882, 0.13910613293909835, 0.022552810087071738, 0.0499685336595271, 0.15354912082399003, 0.04950992666205102, 0.09349496709609034, 0.16058725190011564, 0.06024636100265497, 0.012648386453295522, 0.0649393868106328, 0.9885060711357645, 0.021707567543094292, 80.39975133353026, 80.18793656970347, 79.93267945437185, 80.89060811830954, 79.72604117130034, 80.30743200810214]\n"
     ]
    }
   ],
   "source": [
    "var=[0]*22\n",
    "for x in range(0,len(x2_val)):\n",
    "    var[x]=x2_val[x]-(mean_val[x]**2)\n",
    "print(var)"
   ]
  },
  {
   "cell_type": "code",
   "execution_count": null,
   "metadata": {},
   "outputs": [],
   "source": []
  }
 ],
 "metadata": {
  "kernelspec": {
   "display_name": "Python 3.7.0 64-bit",
   "language": "python",
   "name": "python37064bitfd7f6ce5b3cc44659a4a1c34ceb7fe4e"
  },
  "language_info": {
   "codemirror_mode": {
    "name": "ipython",
    "version": 3
   },
   "file_extension": ".py",
   "mimetype": "text/x-python",
   "name": "python",
   "nbconvert_exporter": "python",
   "pygments_lexer": "ipython3",
   "version": "3.7.0"
  }
 },
 "nbformat": 4,
 "nbformat_minor": 4
}
