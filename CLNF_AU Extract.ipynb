{
 "cells": [
  {
   "cell_type": "code",
   "execution_count": 5,
   "metadata": {},
   "outputs": [],
   "source": [
    "import csv\n",
    "import zipfile\n",
    "import os\n",
    "import pandas as pd\n",
    "import glob"
   ]
  },
  {
   "cell_type": "code",
   "execution_count": 6,
   "metadata": {},
   "outputs": [],
   "source": [
    "def extract_files(zip_file, out_dir, delete_zip=False):\n",
    "    \"\"\"\n",
    "    A function takes in a zip file and extracts the .wav file and\n",
    "    *TRANSCRIPT.csv files into separate folders in a user\n",
    "    specified directory.\n",
    "    Parameters\n",
    "    ----------\n",
    "    zip_file : filepath\n",
    "        path to the folder containing the DAIC-WOZ zip files\n",
    "    out_dir : filepath\n",
    "        path to the desired directory where audio and transcript folders\n",
    "        will be created\n",
    "    delete_zip : bool\n",
    "        If true, deletes the zip file once relevant files are extracted\n",
    "    Returns\n",
    "    -------\n",
    "    Two directories :\n",
    "        audio : containing the extracted wav files\n",
    "        transcripts : containing the extracted transcript csv files\n",
    "    \"\"\"\n",
    "    # create audio directory\n",
    "    txt_dir = os.path.join(out_dir, 'CLNF_AUs')\n",
    "    if not os.path.exists(txt_dir):\n",
    "        os.makedirs(txt_dir)\n",
    "\n",
    "    # create transcripts directory\n",
    "    #transcripts_dir = os.path.join(out_dir, 'transcripts')\n",
    "    #if not os.path.exists(audio_dir):\n",
    "    #    os.makedirs(transcripts_dir)\n",
    "\n",
    "    zip_ref = zipfile.ZipFile(zip_file)\n",
    "    for f in zip_ref.namelist():  # iterate through files in zip file\n",
    "        if f.endswith('CLNF_AUs.txt'):\n",
    "            zip_ref.extract(f, txt_dir)\n",
    "            \n",
    "    zip_ref.close()\n",
    "\n",
    "    if delete_zip:\n",
    "        os.remove(zip_file)\n",
    "\n",
    "\n"
   ]
  },
  {
   "cell_type": "code",
   "execution_count": 30,
   "metadata": {},
   "outputs": [],
   "source": [
    "# directory containing DIAC-WOZ zip files\n",
    "dir_name = './Subjects'\n",
    "\n",
    "# directory where folders will be created\n",
    "out_dir = './SubjectsExtract/'\n",
    "\n",
    "# delete zip file \n",
    "delete_zip = False\n",
    "\n",
    "# iterate through zip files in dir_name and extracts wav and transcripts\n",
    "for file in os.listdir(dir_name):\n",
    "    if file.endswith('.zip'):\n",
    "        zip_file = os.path.join(dir_name, file)\n",
    "        extract_files(zip_file, out_dir, delete_zip=delete_zip)"
   ]
  },
  {
   "cell_type": "code",
   "execution_count": 31,
   "metadata": {},
   "outputs": [],
   "source": [
    "# directory containing DIAC-WOZ zip files\n",
    "in_dir = './SubjectsExtract/CLNF_AUs/'\n",
    "\n",
    "# directory where audio and transcripts folders will be created\n",
    "out_dir = './SubjectsExtract/CSV_CLNF_AUs'\n",
    "if not os.path.exists(out_dir):\n",
    "        os.makedirs(out_dir)\n",
    "\n",
    "txt_files = os.path.join(in_dir, '*.txt')\n",
    "\n",
    "for txt_file in glob.glob(txt_files):\n",
    "    with open(txt_file, \"r\") as input_file:\n",
    "        stripped = (line.strip() for line in input_file)\n",
    "        lines = (line.split(\",\") for line in stripped)\n",
    "        #print(list(lines)[:5])\n",
    "        filename = os.path.splitext(os.path.basename(txt_file))[0] + '.csv'\n",
    "        with open(os.path.join(out_dir, filename), 'w') as output_file:\n",
    "            out_csv = csv.writer(output_file)\n",
    "            out_csv.writerows(lines)"
   ]
  },
  {
   "cell_type": "code",
   "execution_count": null,
   "metadata": {},
   "outputs": [],
   "source": []
  },
  {
   "cell_type": "code",
   "execution_count": null,
   "metadata": {},
   "outputs": [],
   "source": []
  }
 ],
 "metadata": {
  "kernelspec": {
   "display_name": "Python 3.7.0 64-bit",
   "language": "python",
   "name": "python37064bitfd7f6ce5b3cc44659a4a1c34ceb7fe4e"
  },
  "language_info": {
   "codemirror_mode": {
    "name": "ipython",
    "version": 3
   },
   "file_extension": ".py",
   "mimetype": "text/x-python",
   "name": "python",
   "nbconvert_exporter": "python",
   "pygments_lexer": "ipython3",
   "version": "3.7.0"
  }
 },
 "nbformat": 4,
 "nbformat_minor": 4
}
