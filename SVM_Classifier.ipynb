{
 "cells": [
  {
   "cell_type": "code",
   "execution_count": 1,
   "metadata": {},
   "outputs": [],
   "source": [
    "import pandas as pd\n",
    "import numpy as np\n",
    "from sklearn import svm\n",
    "from sklearn.model_selection import train_test_split"
   ]
  },
  {
   "cell_type": "code",
   "execution_count": 3,
   "metadata": {},
   "outputs": [
    {
     "name": "stdout",
     "output_type": "stream",
     "text": [
      "168\n"
     ]
    }
   ],
   "source": [
    "#Reading all values and populating dataset with given result values from AVEC2017\n",
    "X=pd.read_csv('ext_fea.csv')\n",
    "Y1=pd.read_csv('train_split.csv')\n",
    "Y2=pd.read_csv('test_split.csv')\n",
    "Y3=pd.read_csv('dev_split.csv')\n",
    "print(len(X))"
   ]
  },
  {
   "cell_type": "code",
   "execution_count": 4,
   "metadata": {},
   "outputs": [
    {
     "name": "stdout",
     "output_type": "stream",
     "text": [
      "[0.0, 0.0, 0.0, 0.0, 0.0, 0.0, 0.0, 0.0, 1.0, 1.0, 0.0, 1.0, 0.0, 0.0, 0.0, 0.0, 0.0, 0.0, 1.0, 1.0, 1.0, 0.0, 0.0, 0.0, 1.0, 0.0, 0.0, 0.0, 0.0, 1.0, 0.0, 1.0, 0.0, 0.0, 1.0, 0.0, 1.0, 1.0, 0.0, 0.0, 1.0, 1.0, 1.0, 1.0, 0.0, 1.0, 1.0, 1.0, 1.0, 1.0, 1.0, 1.0, 0.0, 0.0, 1.0, 0.0, 0.0, 0.0, 0.0, 0.0, 1.0, 0.0, 0.0, 1.0, 0.0, 0.0, 1.0, 1.0, 0.0, 0.0, 1.0, 1.0, 1.0, 1.0, 0.0, 0.0, 0.0, 0.0, 0.0, 0.0, 0.0, 0.0, 0.0, 1.0, 0.0, 0.0, 1.0, 0.0, 0.0, 0.0, 0.0, 1.0, 0.0, 1.0, 1.0, 1.0, 0.0, 0.0, 0.0, 1.0, 0.0, 0.0, 1.0, 1.0, 0.0, 0.0, 0.0, 1.0, 0.0, 0.0, 0.0, 0.0, 0.0, 1.0, 0.0, 0.0, 0.0, 0.0, 0.0, 0.0, 1.0, 1.0, 0.0, 0.0, 0.0, 0.0, 0.0, 0.0, 1.0, 0.0, 0.0, 0.0, 0.0, 1.0, 0.0, 0.0, 0.0, 0.0, 0.0, 1.0, 1.0, 0.0, 0.0, 0.0, 0.0, 0.0, 0.0, 0.0, 0.0, 0.0, 0.0, 0.0, 0.0, 0.0, 0.0, 0.0, 0.0, 0.0, 0.0, 1.0, 0.0, 0.0, 0.0, 0.0, 0.0, 0.0, 0.0, 0.0]\n"
     ]
    }
   ],
   "source": [
    "Y=list()\n",
    "for i in range(len(X)):\n",
    "    #Finding which record(int the combined features) exists in which file(given by AVEC2017)\n",
    "    '''\n",
    "    Note: This gives the result at the specified position where condition is satisfied and NaN values in other positions\n",
    "          Computationally expensive step\n",
    "    '''\n",
    "    train_results= Y1['PHQ8_Binary'].where(Y1['Participant_ID'] == list(X.loc[i])[0])\n",
    "    test_results = Y2['PHQ_Binary'].where(Y2['Participant_ID'] == list(X.loc[i])[0])\n",
    "    dev_results  = Y3['PHQ8_Binary'].where(Y3['Participant_ID'] == list(X.loc[i])[0])\n",
    "    \n",
    "    #filling NaN values with some other values\n",
    "    train_results=train_results.fillna(500)\n",
    "    test_results=test_results.fillna(500)\n",
    "    dev_results=dev_results.fillna(500)\n",
    "    \n",
    "    #finding non-NaN values and adding them to list\n",
    "    for j in train_results:\n",
    "        if(j!=500):\n",
    "            Y.append(j)\n",
    "            continue\n",
    "    \n",
    "    for j in test_results:\n",
    "        if(j!=500):\n",
    "            Y.append(j)\n",
    "            continue\n",
    "    \n",
    "    for j in dev_results:\n",
    "        if(j!=500):\n",
    "            Y.append(j)\n",
    "            continue\n",
    "    \n",
    "\n",
    "print(Y)"
   ]
  },
  {
   "cell_type": "code",
   "execution_count": 151,
   "metadata": {},
   "outputs": [],
   "source": [
    "#Split the dataset randomly into test and train set\n",
    "X_train, X_test, y_train, y_test = train_test_split(X, Y, test_size=0.2,random_state=19)"
   ]
  },
  {
   "cell_type": "code",
   "execution_count": 152,
   "metadata": {},
   "outputs": [
    {
     "data": {
      "text/html": [
       "<div>\n",
       "<style scoped>\n",
       "    .dataframe tbody tr th:only-of-type {\n",
       "        vertical-align: middle;\n",
       "    }\n",
       "\n",
       "    .dataframe tbody tr th {\n",
       "        vertical-align: top;\n",
       "    }\n",
       "\n",
       "    .dataframe thead th {\n",
       "        text-align: right;\n",
       "    }\n",
       "</style>\n",
       "<table border=\"1\" class=\"dataframe\">\n",
       "  <thead>\n",
       "    <tr style=\"text-align: right;\">\n",
       "      <th></th>\n",
       "      <th>video_no</th>\n",
       "      <th>leyeh</th>\n",
       "      <th>leyev</th>\n",
       "      <th>reyeh</th>\n",
       "      <th>reyev</th>\n",
       "      <th>mouh</th>\n",
       "      <th>mouv</th>\n",
       "      <th>headh</th>\n",
       "      <th>headv</th>\n",
       "      <th>bnh</th>\n",
       "      <th>...</th>\n",
       "      <th>AU17_r.1</th>\n",
       "      <th>AU20_r.1</th>\n",
       "      <th>AU25_r.1</th>\n",
       "      <th>AU26_r.1</th>\n",
       "      <th>AU04_c.1</th>\n",
       "      <th>AU12_c.1</th>\n",
       "      <th>AU15_c.1</th>\n",
       "      <th>AU23_c.1</th>\n",
       "      <th>AU28_c.1</th>\n",
       "      <th>AU45_c.1</th>\n",
       "    </tr>\n",
       "  </thead>\n",
       "  <tbody>\n",
       "    <tr>\n",
       "      <th>14</th>\n",
       "      <td>314</td>\n",
       "      <td>53.330478</td>\n",
       "      <td>13.189708</td>\n",
       "      <td>54.262664</td>\n",
       "      <td>13.376904</td>\n",
       "      <td>102.113317</td>\n",
       "      <td>32.190556</td>\n",
       "      <td>303.487979</td>\n",
       "      <td>250.953863</td>\n",
       "      <td>151.719239</td>\n",
       "      <td>...</td>\n",
       "      <td>0</td>\n",
       "      <td>0.0</td>\n",
       "      <td>0.674326</td>\n",
       "      <td>0</td>\n",
       "      <td>0</td>\n",
       "      <td>0</td>\n",
       "      <td>0</td>\n",
       "      <td>0</td>\n",
       "      <td>0</td>\n",
       "      <td>0</td>\n",
       "    </tr>\n",
       "    <tr>\n",
       "      <th>78</th>\n",
       "      <td>396</td>\n",
       "      <td>47.229022</td>\n",
       "      <td>10.055123</td>\n",
       "      <td>47.150384</td>\n",
       "      <td>10.228252</td>\n",
       "      <td>87.020154</td>\n",
       "      <td>27.935254</td>\n",
       "      <td>264.379085</td>\n",
       "      <td>242.496669</td>\n",
       "      <td>139.527757</td>\n",
       "      <td>...</td>\n",
       "      <td>0</td>\n",
       "      <td>0.0</td>\n",
       "      <td>0.707134</td>\n",
       "      <td>0</td>\n",
       "      <td>0</td>\n",
       "      <td>1</td>\n",
       "      <td>0</td>\n",
       "      <td>1</td>\n",
       "      <td>0</td>\n",
       "      <td>1</td>\n",
       "    </tr>\n",
       "    <tr>\n",
       "      <th>24</th>\n",
       "      <td>325</td>\n",
       "      <td>39.308334</td>\n",
       "      <td>11.563115</td>\n",
       "      <td>40.291324</td>\n",
       "      <td>11.593169</td>\n",
       "      <td>75.666885</td>\n",
       "      <td>25.591561</td>\n",
       "      <td>211.731440</td>\n",
       "      <td>191.315794</td>\n",
       "      <td>112.841491</td>\n",
       "      <td>...</td>\n",
       "      <td>0</td>\n",
       "      <td>0.0</td>\n",
       "      <td>0.762332</td>\n",
       "      <td>0</td>\n",
       "      <td>0</td>\n",
       "      <td>0</td>\n",
       "      <td>0</td>\n",
       "      <td>0</td>\n",
       "      <td>0</td>\n",
       "      <td>0</td>\n",
       "    </tr>\n",
       "    <tr>\n",
       "      <th>0</th>\n",
       "      <td>300</td>\n",
       "      <td>44.924783</td>\n",
       "      <td>12.526947</td>\n",
       "      <td>46.355311</td>\n",
       "      <td>12.633242</td>\n",
       "      <td>95.549300</td>\n",
       "      <td>38.751414</td>\n",
       "      <td>246.076092</td>\n",
       "      <td>243.996047</td>\n",
       "      <td>124.073312</td>\n",
       "      <td>...</td>\n",
       "      <td>0</td>\n",
       "      <td>0.0</td>\n",
       "      <td>0.817331</td>\n",
       "      <td>0</td>\n",
       "      <td>0</td>\n",
       "      <td>0</td>\n",
       "      <td>0</td>\n",
       "      <td>1</td>\n",
       "      <td>0</td>\n",
       "      <td>0</td>\n",
       "    </tr>\n",
       "    <tr>\n",
       "      <th>61</th>\n",
       "      <td>373</td>\n",
       "      <td>50.605600</td>\n",
       "      <td>14.698305</td>\n",
       "      <td>50.711684</td>\n",
       "      <td>14.722382</td>\n",
       "      <td>97.526190</td>\n",
       "      <td>34.722786</td>\n",
       "      <td>265.336264</td>\n",
       "      <td>263.267401</td>\n",
       "      <td>143.680453</td>\n",
       "      <td>...</td>\n",
       "      <td>0</td>\n",
       "      <td>0.0</td>\n",
       "      <td>0.966862</td>\n",
       "      <td>0</td>\n",
       "      <td>0</td>\n",
       "      <td>0</td>\n",
       "      <td>0</td>\n",
       "      <td>1</td>\n",
       "      <td>0</td>\n",
       "      <td>0</td>\n",
       "    </tr>\n",
       "    <tr>\n",
       "      <th>...</th>\n",
       "      <td>...</td>\n",
       "      <td>...</td>\n",
       "      <td>...</td>\n",
       "      <td>...</td>\n",
       "      <td>...</td>\n",
       "      <td>...</td>\n",
       "      <td>...</td>\n",
       "      <td>...</td>\n",
       "      <td>...</td>\n",
       "      <td>...</td>\n",
       "      <td>...</td>\n",
       "      <td>...</td>\n",
       "      <td>...</td>\n",
       "      <td>...</td>\n",
       "      <td>...</td>\n",
       "      <td>...</td>\n",
       "      <td>...</td>\n",
       "      <td>...</td>\n",
       "      <td>...</td>\n",
       "      <td>...</td>\n",
       "      <td>...</td>\n",
       "    </tr>\n",
       "    <tr>\n",
       "      <th>52</th>\n",
       "      <td>363</td>\n",
       "      <td>49.459455</td>\n",
       "      <td>12.729109</td>\n",
       "      <td>48.590925</td>\n",
       "      <td>12.358820</td>\n",
       "      <td>93.507992</td>\n",
       "      <td>34.822432</td>\n",
       "      <td>286.865954</td>\n",
       "      <td>291.560377</td>\n",
       "      <td>137.310679</td>\n",
       "      <td>...</td>\n",
       "      <td>0</td>\n",
       "      <td>0.0</td>\n",
       "      <td>0.875665</td>\n",
       "      <td>0</td>\n",
       "      <td>0</td>\n",
       "      <td>0</td>\n",
       "      <td>0</td>\n",
       "      <td>1</td>\n",
       "      <td>0</td>\n",
       "      <td>0</td>\n",
       "    </tr>\n",
       "    <tr>\n",
       "      <th>19</th>\n",
       "      <td>320</td>\n",
       "      <td>49.434624</td>\n",
       "      <td>14.141186</td>\n",
       "      <td>46.575579</td>\n",
       "      <td>14.172709</td>\n",
       "      <td>89.700829</td>\n",
       "      <td>33.515157</td>\n",
       "      <td>243.798888</td>\n",
       "      <td>230.075995</td>\n",
       "      <td>132.608499</td>\n",
       "      <td>...</td>\n",
       "      <td>0</td>\n",
       "      <td>0.0</td>\n",
       "      <td>0.670239</td>\n",
       "      <td>0</td>\n",
       "      <td>0</td>\n",
       "      <td>0</td>\n",
       "      <td>0</td>\n",
       "      <td>1</td>\n",
       "      <td>0</td>\n",
       "      <td>0</td>\n",
       "    </tr>\n",
       "    <tr>\n",
       "      <th>98</th>\n",
       "      <td>417</td>\n",
       "      <td>41.308199</td>\n",
       "      <td>12.158742</td>\n",
       "      <td>39.866320</td>\n",
       "      <td>12.036357</td>\n",
       "      <td>77.625254</td>\n",
       "      <td>27.002946</td>\n",
       "      <td>198.940783</td>\n",
       "      <td>189.281838</td>\n",
       "      <td>113.831604</td>\n",
       "      <td>...</td>\n",
       "      <td>0</td>\n",
       "      <td>0.0</td>\n",
       "      <td>0.656065</td>\n",
       "      <td>0</td>\n",
       "      <td>0</td>\n",
       "      <td>1</td>\n",
       "      <td>0</td>\n",
       "      <td>0</td>\n",
       "      <td>0</td>\n",
       "      <td>0</td>\n",
       "    </tr>\n",
       "    <tr>\n",
       "      <th>110</th>\n",
       "      <td>429</td>\n",
       "      <td>50.984635</td>\n",
       "      <td>13.858757</td>\n",
       "      <td>47.817556</td>\n",
       "      <td>13.616193</td>\n",
       "      <td>92.767910</td>\n",
       "      <td>31.801569</td>\n",
       "      <td>258.036864</td>\n",
       "      <td>240.235019</td>\n",
       "      <td>131.982228</td>\n",
       "      <td>...</td>\n",
       "      <td>0</td>\n",
       "      <td>0.0</td>\n",
       "      <td>0.634464</td>\n",
       "      <td>0</td>\n",
       "      <td>0</td>\n",
       "      <td>0</td>\n",
       "      <td>0</td>\n",
       "      <td>1</td>\n",
       "      <td>0</td>\n",
       "      <td>0</td>\n",
       "    </tr>\n",
       "    <tr>\n",
       "      <th>93</th>\n",
       "      <td>412</td>\n",
       "      <td>43.439280</td>\n",
       "      <td>11.358355</td>\n",
       "      <td>43.085201</td>\n",
       "      <td>10.900012</td>\n",
       "      <td>89.801615</td>\n",
       "      <td>24.318330</td>\n",
       "      <td>243.975726</td>\n",
       "      <td>222.274096</td>\n",
       "      <td>120.985886</td>\n",
       "      <td>...</td>\n",
       "      <td>0</td>\n",
       "      <td>0.0</td>\n",
       "      <td>0.000000</td>\n",
       "      <td>0</td>\n",
       "      <td>0</td>\n",
       "      <td>0</td>\n",
       "      <td>0</td>\n",
       "      <td>1</td>\n",
       "      <td>0</td>\n",
       "      <td>0</td>\n",
       "    </tr>\n",
       "  </tbody>\n",
       "</table>\n",
       "<p>134 rows × 56 columns</p>\n",
       "</div>"
      ],
      "text/plain": [
       "     video_no      leyeh      leyev      reyeh      reyev        mouh  \\\n",
       "14        314  53.330478  13.189708  54.262664  13.376904  102.113317   \n",
       "78        396  47.229022  10.055123  47.150384  10.228252   87.020154   \n",
       "24        325  39.308334  11.563115  40.291324  11.593169   75.666885   \n",
       "0         300  44.924783  12.526947  46.355311  12.633242   95.549300   \n",
       "61        373  50.605600  14.698305  50.711684  14.722382   97.526190   \n",
       "..        ...        ...        ...        ...        ...         ...   \n",
       "52        363  49.459455  12.729109  48.590925  12.358820   93.507992   \n",
       "19        320  49.434624  14.141186  46.575579  14.172709   89.700829   \n",
       "98        417  41.308199  12.158742  39.866320  12.036357   77.625254   \n",
       "110       429  50.984635  13.858757  47.817556  13.616193   92.767910   \n",
       "93        412  43.439280  11.358355  43.085201  10.900012   89.801615   \n",
       "\n",
       "          mouv       headh       headv         bnh  ...  AU17_r.1  AU20_r.1  \\\n",
       "14   32.190556  303.487979  250.953863  151.719239  ...         0       0.0   \n",
       "78   27.935254  264.379085  242.496669  139.527757  ...         0       0.0   \n",
       "24   25.591561  211.731440  191.315794  112.841491  ...         0       0.0   \n",
       "0    38.751414  246.076092  243.996047  124.073312  ...         0       0.0   \n",
       "61   34.722786  265.336264  263.267401  143.680453  ...         0       0.0   \n",
       "..         ...         ...         ...         ...  ...       ...       ...   \n",
       "52   34.822432  286.865954  291.560377  137.310679  ...         0       0.0   \n",
       "19   33.515157  243.798888  230.075995  132.608499  ...         0       0.0   \n",
       "98   27.002946  198.940783  189.281838  113.831604  ...         0       0.0   \n",
       "110  31.801569  258.036864  240.235019  131.982228  ...         0       0.0   \n",
       "93   24.318330  243.975726  222.274096  120.985886  ...         0       0.0   \n",
       "\n",
       "     AU25_r.1  AU26_r.1  AU04_c.1  AU12_c.1  AU15_c.1  AU23_c.1  AU28_c.1  \\\n",
       "14   0.674326         0         0         0         0         0         0   \n",
       "78   0.707134         0         0         1         0         1         0   \n",
       "24   0.762332         0         0         0         0         0         0   \n",
       "0    0.817331         0         0         0         0         1         0   \n",
       "61   0.966862         0         0         0         0         1         0   \n",
       "..        ...       ...       ...       ...       ...       ...       ...   \n",
       "52   0.875665         0         0         0         0         1         0   \n",
       "19   0.670239         0         0         0         0         1         0   \n",
       "98   0.656065         0         0         1         0         0         0   \n",
       "110  0.634464         0         0         0         0         1         0   \n",
       "93   0.000000         0         0         0         0         1         0   \n",
       "\n",
       "     AU45_c.1  \n",
       "14          0  \n",
       "78          1  \n",
       "24          0  \n",
       "0           0  \n",
       "61          0  \n",
       "..        ...  \n",
       "52          0  \n",
       "19          0  \n",
       "98          0  \n",
       "110         0  \n",
       "93          0  \n",
       "\n",
       "[134 rows x 56 columns]"
      ]
     },
     "execution_count": 152,
     "metadata": {},
     "output_type": "execute_result"
    }
   ],
   "source": [
    "X_train"
   ]
  },
  {
   "cell_type": "code",
   "execution_count": 153,
   "metadata": {},
   "outputs": [],
   "source": [
    "#Decide the SVC kernel\n",
    "clf = svm.SVC(C=0.8,kernel=\"linear\")"
   ]
  },
  {
   "cell_type": "code",
   "execution_count": 176,
   "metadata": {},
   "outputs": [
    {
     "name": "stdout",
     "output_type": "stream",
     "text": [
      "     video_no      leyeh      leyev      reyeh      reyev        mouh  \\\n",
      "14        314  53.330478  13.189708  54.262664  13.376904  102.113317   \n",
      "78        396  47.229022  10.055123  47.150384  10.228252   87.020154   \n",
      "24        325  39.308334  11.563115  40.291324  11.593169   75.666885   \n",
      "0         300  44.924783  12.526947  46.355311  12.633242   95.549300   \n",
      "61        373  50.605600  14.698305  50.711684  14.722382   97.526190   \n",
      "..        ...        ...        ...        ...        ...         ...   \n",
      "52        363  49.459455  12.729109  48.590925  12.358820   93.507992   \n",
      "19        320  49.434624  14.141186  46.575579  14.172709   89.700829   \n",
      "98        417  41.308199  12.158742  39.866320  12.036357   77.625254   \n",
      "110       429  50.984635  13.858757  47.817556  13.616193   92.767910   \n",
      "93        412  43.439280  11.358355  43.085201  10.900012   89.801615   \n",
      "\n",
      "          mouv       headh       headv         bnh  ...  AU17_r.1  AU20_r.1  \\\n",
      "14   32.190556  303.487979  250.953863  151.719239  ...         0       0.0   \n",
      "78   27.935254  264.379085  242.496669  139.527757  ...         0       0.0   \n",
      "24   25.591561  211.731440  191.315794  112.841491  ...         0       0.0   \n",
      "0    38.751414  246.076092  243.996047  124.073312  ...         0       0.0   \n",
      "61   34.722786  265.336264  263.267401  143.680453  ...         0       0.0   \n",
      "..         ...         ...         ...         ...  ...       ...       ...   \n",
      "52   34.822432  286.865954  291.560377  137.310679  ...         0       0.0   \n",
      "19   33.515157  243.798888  230.075995  132.608499  ...         0       0.0   \n",
      "98   27.002946  198.940783  189.281838  113.831604  ...         0       0.0   \n",
      "110  31.801569  258.036864  240.235019  131.982228  ...         0       0.0   \n",
      "93   24.318330  243.975726  222.274096  120.985886  ...         0       0.0   \n",
      "\n",
      "     AU25_r.1  AU26_r.1  AU04_c.1  AU12_c.1  AU15_c.1  AU23_c.1  AU28_c.1  \\\n",
      "14   0.674326         0         0         0         0         0         0   \n",
      "78   0.707134         0         0         1         0         1         0   \n",
      "24   0.762332         0         0         0         0         0         0   \n",
      "0    0.817331         0         0         0         0         1         0   \n",
      "61   0.966862         0         0         0         0         1         0   \n",
      "..        ...       ...       ...       ...       ...       ...       ...   \n",
      "52   0.875665         0         0         0         0         1         0   \n",
      "19   0.670239         0         0         0         0         1         0   \n",
      "98   0.656065         0         0         1         0         0         0   \n",
      "110  0.634464         0         0         0         0         1         0   \n",
      "93   0.000000         0         0         0         0         1         0   \n",
      "\n",
      "     AU45_c.1  \n",
      "14          0  \n",
      "78          1  \n",
      "24          0  \n",
      "0           0  \n",
      "61          0  \n",
      "..        ...  \n",
      "52          0  \n",
      "19          0  \n",
      "98          0  \n",
      "110         0  \n",
      "93          0  \n",
      "\n",
      "[134 rows x 56 columns]\n"
     ]
    }
   ],
   "source": [
    "from sklearn.preprocessing import MinMaxScaler\n",
    "scaler = MinMaxScaler()\n",
    "print(X_train)\n",
    "# transform data\n",
    "scaled_train = scaler.fit_transform(X_train)\n",
    "scaled_test=scaler.fit_transform(X_test)"
   ]
  },
  {
   "cell_type": "code",
   "execution_count": 177,
   "metadata": {},
   "outputs": [
    {
     "data": {
      "text/plain": [
       "DecisionTreeClassifier(ccp_alpha=0.0, class_weight=None, criterion='entropy',\n",
       "                       max_depth=3, max_features=None, max_leaf_nodes=None,\n",
       "                       min_impurity_decrease=0.0, min_impurity_split=None,\n",
       "                       min_samples_leaf=1, min_samples_split=2,\n",
       "                       min_weight_fraction_leaf=0.0, presort='deprecated',\n",
       "                       random_state=None, splitter='best')"
      ]
     },
     "execution_count": 177,
     "metadata": {},
     "output_type": "execute_result"
    }
   ],
   "source": [
    "#Fit the model by providing the training set\n",
    "clf.fit(scaled_train, y_train)"
   ]
  },
  {
   "cell_type": "code",
   "execution_count": 174,
   "metadata": {},
   "outputs": [
    {
     "name": "stdout",
     "output_type": "stream",
     "text": [
      "[0. 0. 0. 0. 0. 0. 0. 0. 0. 0. 0. 0. 0. 0. 0. 0. 0. 0. 0. 0. 0. 0. 0. 0.\n",
      " 0. 0. 0. 0. 0. 0. 0. 0. 0. 0.]\n",
      "[0.0, 0.0, 0.0, 0.0, 0.0, 0.0, 1.0, 0.0, 0.0, 1.0, 0.0, 0.0, 0.0, 0.0, 0.0, 0.0, 0.0, 0.0, 0.0, 0.0, 0.0, 1.0, 1.0, 0.0, 0.0, 0.0, 0.0, 0.0, 1.0, 1.0, 1.0, 0.0, 0.0, 0.0]\n"
     ]
    }
   ],
   "source": [
    "#Predict the values using learned model using X-test set\n",
    "y_pred = clf.predict(scaled_test)\n",
    "#Print the predictions\n",
    "print(y_pred)\n",
    "print(y_test)"
   ]
  },
  {
   "cell_type": "code",
   "execution_count": 173,
   "metadata": {},
   "outputs": [
    {
     "name": "stdout",
     "output_type": "stream",
     "text": [
      "Accuracy: 0.7941176470588235\n"
     ]
    }
   ],
   "source": [
    "#display metrics\n",
    "from sklearn import metrics\n",
    "\n",
    "# Model Accuracy: how often is the classifier correct?\n",
    "print(\"Accuracy:\",metrics.accuracy_score(y_test, y_pred))"
   ]
  },
  {
   "cell_type": "code",
   "execution_count": 178,
   "metadata": {},
   "outputs": [
    {
     "name": "stdout",
     "output_type": "stream",
     "text": [
      "Precision: 0.0\n",
      "Average Precision : 0.20588235294117646\n"
     ]
    },
    {
     "name": "stderr",
     "output_type": "stream",
     "text": [
      "C:\\Users\\Anirudh\\AppData\\Local\\Programs\\Python\\Python37\\lib\\site-packages\\sklearn\\metrics\\_classification.py:1272: UndefinedMetricWarning: Precision is ill-defined and being set to 0.0 due to no predicted samples. Use `zero_division` parameter to control this behavior.\n",
      "  _warn_prf(average, modifier, msg_start, len(result))\n"
     ]
    }
   ],
   "source": [
    "#Calculate precision and recall\n",
    "#Precision = TP/(TP+FP)\n",
    "print(\"Precision:\",metrics.precision_score(y_test, y_pred))\n",
    "\n",
    "average_precision = metrics.average_precision_score(y_test, y_pred)\n",
    "# Model Recall: what percentage of positive tuples are labelled as such?\n",
    "#Recall = TP/(TP+FN)\n",
    "print(\"Average Precision :\",average_precision)"
   ]
  },
  {
   "cell_type": "code",
   "execution_count": 179,
   "metadata": {},
   "outputs": [],
   "source": [
    "from sklearn.tree import DecisionTreeClassifier\n",
    "\n",
    "clf = DecisionTreeClassifier(criterion=\"entropy\", max_depth=3)\n",
    "\n",
    "# Train Decision Tree Classifer\n",
    "clf = clf.fit(scaled_train,y_train)\n",
    "\n",
    "#Predict the response for test dataset\n",
    "y_pred = clf.predict(X_test)\n"
   ]
  },
  {
   "cell_type": "code",
   "execution_count": 180,
   "metadata": {},
   "outputs": [
    {
     "name": "stdout",
     "output_type": "stream",
     "text": [
      "Accuracy: 0.7058823529411765\n"
     ]
    }
   ],
   "source": [
    "print(\"Accuracy:\",metrics.accuracy_score(y_test, y_pred))"
   ]
  },
  {
   "cell_type": "code",
   "execution_count": 181,
   "metadata": {},
   "outputs": [
    {
     "name": "stderr",
     "output_type": "stream",
     "text": [
      "C:\\Users\\Anirudh\\AppData\\Local\\Programs\\Python\\Python37\\lib\\site-packages\\sklearn\\externals\\six.py:31: FutureWarning: The module is deprecated in version 0.21 and will be removed in version 0.23 since we've dropped support for Python 2.7. Please rely on the official version of six (https://pypi.org/project/six/).\n",
      "  \"(https://pypi.org/project/six/).\", FutureWarning)\n"
     ]
    },
    {
     "ename": "InvocationException",
     "evalue": "GraphViz's executables not found",
     "output_type": "error",
     "traceback": [
      "\u001b[1;31m---------------------------------------------------------------------------\u001b[0m",
      "\u001b[1;31mInvocationException\u001b[0m                       Traceback (most recent call last)",
      "\u001b[1;32m<ipython-input-181-0d3cbaaeba56>\u001b[0m in \u001b[0;36m<module>\u001b[1;34m\u001b[0m\n\u001b[0;32m     10\u001b[0m \u001b[0mgraph\u001b[0m \u001b[1;33m=\u001b[0m \u001b[0mpydotplus\u001b[0m\u001b[1;33m.\u001b[0m\u001b[0mgraph_from_dot_data\u001b[0m\u001b[1;33m(\u001b[0m\u001b[0mdot_data\u001b[0m\u001b[1;33m.\u001b[0m\u001b[0mgetvalue\u001b[0m\u001b[1;33m(\u001b[0m\u001b[1;33m)\u001b[0m\u001b[1;33m)\u001b[0m\u001b[1;33m\u001b[0m\u001b[0m\n\u001b[0;32m     11\u001b[0m \u001b[1;33m\u001b[0m\u001b[0m\n\u001b[1;32m---> 12\u001b[1;33m \u001b[0mImage\u001b[0m\u001b[1;33m(\u001b[0m\u001b[0mgraph\u001b[0m\u001b[1;33m.\u001b[0m\u001b[0mcreate_png\u001b[0m\u001b[1;33m(\u001b[0m\u001b[1;33m)\u001b[0m\u001b[1;33m)\u001b[0m\u001b[1;33m\u001b[0m\u001b[0m\n\u001b[0m",
      "\u001b[1;32m~\\AppData\\Local\\Programs\\Python\\Python37\\lib\\site-packages\\pydotplus\\graphviz.py\u001b[0m in \u001b[0;36m<lambda>\u001b[1;34m(f, prog)\u001b[0m\n\u001b[0;32m   1795\u001b[0m             self.__setattr__(\n\u001b[0;32m   1796\u001b[0m                 \u001b[1;34m'create_'\u001b[0m \u001b[1;33m+\u001b[0m \u001b[0mfrmt\u001b[0m\u001b[1;33m,\u001b[0m\u001b[1;33m\u001b[0m\u001b[0m\n\u001b[1;32m-> 1797\u001b[1;33m                 \u001b[1;32mlambda\u001b[0m \u001b[0mf\u001b[0m\u001b[1;33m=\u001b[0m\u001b[0mfrmt\u001b[0m\u001b[1;33m,\u001b[0m \u001b[0mprog\u001b[0m\u001b[1;33m=\u001b[0m\u001b[0mself\u001b[0m\u001b[1;33m.\u001b[0m\u001b[0mprog\u001b[0m\u001b[1;33m:\u001b[0m \u001b[0mself\u001b[0m\u001b[1;33m.\u001b[0m\u001b[0mcreate\u001b[0m\u001b[1;33m(\u001b[0m\u001b[0mformat\u001b[0m\u001b[1;33m=\u001b[0m\u001b[0mf\u001b[0m\u001b[1;33m,\u001b[0m \u001b[0mprog\u001b[0m\u001b[1;33m=\u001b[0m\u001b[0mprog\u001b[0m\u001b[1;33m)\u001b[0m\u001b[1;33m\u001b[0m\u001b[0m\n\u001b[0m\u001b[0;32m   1798\u001b[0m             )\n\u001b[0;32m   1799\u001b[0m             \u001b[0mf\u001b[0m \u001b[1;33m=\u001b[0m \u001b[0mself\u001b[0m\u001b[1;33m.\u001b[0m\u001b[0m__dict__\u001b[0m\u001b[1;33m[\u001b[0m\u001b[1;34m'create_'\u001b[0m \u001b[1;33m+\u001b[0m \u001b[0mfrmt\u001b[0m\u001b[1;33m]\u001b[0m\u001b[1;33m\u001b[0m\u001b[0m\n",
      "\u001b[1;32m~\\AppData\\Local\\Programs\\Python\\Python37\\lib\\site-packages\\pydotplus\\graphviz.py\u001b[0m in \u001b[0;36mcreate\u001b[1;34m(self, prog, format)\u001b[0m\n\u001b[0;32m   1958\u001b[0m             \u001b[1;32mif\u001b[0m \u001b[0mself\u001b[0m\u001b[1;33m.\u001b[0m\u001b[0mprogs\u001b[0m \u001b[1;32mis\u001b[0m \u001b[1;32mNone\u001b[0m\u001b[1;33m:\u001b[0m\u001b[1;33m\u001b[0m\u001b[0m\n\u001b[0;32m   1959\u001b[0m                 raise InvocationException(\n\u001b[1;32m-> 1960\u001b[1;33m                     'GraphViz\\'s executables not found')\n\u001b[0m\u001b[0;32m   1961\u001b[0m \u001b[1;33m\u001b[0m\u001b[0m\n\u001b[0;32m   1962\u001b[0m         \u001b[1;32mif\u001b[0m \u001b[0mprog\u001b[0m \u001b[1;32mnot\u001b[0m \u001b[1;32min\u001b[0m \u001b[0mself\u001b[0m\u001b[1;33m.\u001b[0m\u001b[0mprogs\u001b[0m\u001b[1;33m:\u001b[0m\u001b[1;33m\u001b[0m\u001b[0m\n",
      "\u001b[1;31mInvocationException\u001b[0m: GraphViz's executables not found"
     ]
    }
   ],
   "source": [
    "from sklearn.tree import export_graphviz\n",
    "from sklearn.externals.six import StringIO  \n",
    "from IPython.display import Image  \n",
    "import pydotplus\n",
    "\n",
    "dot_data = StringIO()\n",
    "export_graphviz(clf, out_file=dot_data,  \n",
    "                filled=True, rounded=True,\n",
    "                special_characters=True,feature_names = [col for col in X.columns],class_names=['0','1'])\n",
    "graph = pydotplus.graph_from_dot_data(dot_data.getvalue())  \n",
    "\n",
    "Image(graph.create_png())"
   ]
  },
  {
   "cell_type": "code",
   "execution_count": 182,
   "metadata": {},
   "outputs": [],
   "source": [
    "from sklearn.model_selection import cross_val_score, GridSearchCV,cross_val_predict\n",
    "from sklearn.ensemble import RandomForestRegressor\n",
    "from sklearn.preprocessing import MinMaxScaler\n",
    "from sklearn import metrics"
   ]
  },
  {
   "cell_type": "code",
   "execution_count": 190,
   "metadata": {},
   "outputs": [],
   "source": [
    "def rfr_model(X, y):\n",
    "# Perform Grid-Search\n",
    "    gsc = GridSearchCV(estimator=RandomForestRegressor(),\n",
    "                       param_grid={\n",
    "            'max_depth': range(3,7),\n",
    "            'n_estimators': (10, 50, 100, 1000),\n",
    "        },\n",
    "        cv=5, scoring='neg_mean_squared_error', verbose=0, n_jobs=-1)\n",
    "    \n",
    "    grid_result = gsc.fit(X, y)\n",
    "    best_params = grid_result.best_params_\n",
    "    \n",
    "    rfr = RandomForestRegressor(max_depth=best_params[\"max_depth\"], n_estimators=best_params[\"n_estimators\"],                               random_state=False, verbose=False)\n",
    "# Perform K-Fold CV\n",
    "    rfr.fit(X,y)\n",
    "    \n",
    "    return rfr"
   ]
  },
  {
   "cell_type": "code",
   "execution_count": 191,
   "metadata": {},
   "outputs": [],
   "source": [
    "rfr=rfr_model(X_train,y_train)"
   ]
  },
  {
   "cell_type": "code",
   "execution_count": null,
   "metadata": {},
   "outputs": [],
   "source": [
    "predictions=[round(i) for i in predictions ]\n",
    "print(predictions)\n",
    "print(scores)"
   ]
  },
  {
   "cell_type": "code",
   "execution_count": 192,
   "metadata": {},
   "outputs": [],
   "source": [
    "predictions = rfr.predict(X_test)\n",
    "predictions=[round(i) for i in predictions ]"
   ]
  },
  {
   "cell_type": "code",
   "execution_count": 193,
   "metadata": {},
   "outputs": [
    {
     "name": "stdout",
     "output_type": "stream",
     "text": [
      "0.7352941176470589\n"
     ]
    }
   ],
   "source": [
    "pscore = metrics.accuracy_score(y_test, predictions)\n",
    "print(pscore)"
   ]
  }
 ],
 "metadata": {
  "kernelspec": {
   "display_name": "Python 3.7.0 64-bit",
   "language": "python",
   "name": "python37064bitfd7f6ce5b3cc44659a4a1c34ceb7fe4e"
  },
  "language_info": {
   "codemirror_mode": {
    "name": "ipython",
    "version": 3
   },
   "file_extension": ".py",
   "mimetype": "text/x-python",
   "name": "python",
   "nbconvert_exporter": "python",
   "pygments_lexer": "ipython3",
   "version": "3.7.0"
  }
 },
 "nbformat": 4,
 "nbformat_minor": 4
}
